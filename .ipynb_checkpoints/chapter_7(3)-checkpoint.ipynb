{
 "cells": [
  {
   "cell_type": "code",
   "execution_count": 1,
   "id": "3efe24eb",
   "metadata": {},
   "outputs": [],
   "source": [
    "from sklearn.model_selection import train_test_split\n",
    "from tensorflow import keras\n",
    "\n",
    "(train_input, train_target), (test_input, test_target) = \\\n",
    "    keras.datasets.fashion_mnist.load_data()\n",
    "train_scaled = train_input / 255.0\n",
    "train_scaled, val_input, train_target, val_target = train_test_split(train_scaled, train_target, test_size=0.2, random_state=42)"
   ]
  },
  {
   "cell_type": "code",
   "execution_count": 2,
   "id": "75ad9c9f",
   "metadata": {},
   "outputs": [],
   "source": [
    "def model_fn(a_layer=None):\n",
    "    model = keras.Sequential()\n",
    "    model.add(keras.layers.Flatten(input_shape=(28,28)))\n",
    "    model.add(keras.layers.Dense(100, activation='relu', input_shape=(28*28,)))\n",
    "    \n",
    "    if a_layer:\n",
    "        model.add(a_layer)\n",
    "    \n",
    "    model.add(keras.layers.Dense(10, activation='softmax'))\n",
    "    return model"
   ]
  },
  {
   "cell_type": "code",
   "execution_count": 18,
   "id": "feb92599",
   "metadata": {},
   "outputs": [
    {
     "name": "stdout",
     "output_type": "stream",
     "text": [
      "Model: \"sequential_2\"\n",
      "_________________________________________________________________\n",
      " Layer (type)                Output Shape              Param #   \n",
      "=================================================================\n",
      " flatten_1 (Flatten)         (None, 784)               0         \n",
      "                                                                 \n",
      " dense_2 (Dense)             (None, 100)               78500     \n",
      "                                                                 \n",
      " dense_3 (Dense)             (None, 10)                1010      \n",
      "                                                                 \n",
      "=================================================================\n",
      "Total params: 79,510\n",
      "Trainable params: 79,510\n",
      "Non-trainable params: 0\n",
      "_________________________________________________________________\n"
     ]
    }
   ],
   "source": [
    "model = model_fn()\n",
    "model.summary()"
   ]
  },
  {
   "cell_type": "code",
   "execution_count": 19,
   "id": "82475397",
   "metadata": {},
   "outputs": [
    {
     "name": "stdout",
     "output_type": "stream",
     "text": [
      "Epoch 1/5\n",
      "1500/1500 - 6s - loss: 0.5334 - accuracy: 0.8129 - 6s/epoch - 4ms/step\n",
      "Epoch 2/5\n",
      "1500/1500 - 6s - loss: 0.3935 - accuracy: 0.8587 - 6s/epoch - 4ms/step\n",
      "Epoch 3/5\n",
      "1500/1500 - 7s - loss: 0.3566 - accuracy: 0.8723 - 7s/epoch - 4ms/step\n",
      "Epoch 4/5\n",
      "1500/1500 - 6s - loss: 0.3360 - accuracy: 0.8812 - 6s/epoch - 4ms/step\n",
      "Epoch 5/5\n",
      "1500/1500 - 6s - loss: 0.3219 - accuracy: 0.8864 - 6s/epoch - 4ms/step\n"
     ]
    }
   ],
   "source": [
    "model.compile(loss='sparse_categorical_crossentropy', metrics='accuracy')\n",
    "history = model.fit(train_scaled, train_target, epochs=5, verbose=2) # verbose는 훈련과정 출력 설정 매개변수. 1이면 에포크마다 진행 정보, 0으로하면 훈련 과정이 나타나지 않음. 2이면 프로그래스 막대가 나타나지 않음"
   ]
  },
  {
   "cell_type": "code",
   "execution_count": 11,
   "id": "c503bfd0",
   "metadata": {},
   "outputs": [
    {
     "name": "stdout",
     "output_type": "stream",
     "text": [
      "dict_keys(['loss', 'accuracy'])\n"
     ]
    }
   ],
   "source": [
    "print(history.history.keys()) # history는 딕셔러니를 담고 있음"
   ]
  },
  {
   "cell_type": "code",
   "execution_count": 20,
   "id": "9963ef72",
   "metadata": {},
   "outputs": [
    {
     "name": "stdout",
     "output_type": "stream",
     "text": [
      "dict_items([('loss', [0.5334040522575378, 0.3935107886791229, 0.3566490411758423, 0.3359517753124237, 0.3219408690929413]), ('accuracy', [0.812874972820282, 0.8587499856948853, 0.8722708225250244, 0.8811874985694885, 0.8864166736602783])])\n"
     ]
    }
   ],
   "source": [
    "print(history.history.items())"
   ]
  },
  {
   "cell_type": "code",
   "execution_count": 21,
   "id": "c7116055",
   "metadata": {},
   "outputs": [
    {
     "data": {
      "text/plain": [
       "[0.5334040522575378,\n",
       " 0.3935107886791229,\n",
       " 0.3566490411758423,\n",
       " 0.3359517753124237,\n",
       " 0.3219408690929413]"
      ]
     },
     "execution_count": 21,
     "metadata": {},
     "output_type": "execute_result"
    }
   ],
   "source": [
    "history.history['loss']"
   ]
  },
  {
   "cell_type": "code",
   "execution_count": 22,
   "id": "bd74ebab",
   "metadata": {},
   "outputs": [
    {
     "data": {
      "image/png": "[encoded data removed]",
      "text/plain": [
       "<Figure size 432x288 with 1 Axes>"
      ]
     },
     "metadata": {
      "needs_background": "light"
     },
     "output_type": "display_data"
    }
   ],
   "source": [
    "import matplotlib.pyplot as plt\n",
    "plt.plot(history.history['loss'])\n",
    "plt.ylabel('loss')\n",
    "plt.xlabel('epochs')\n",
    "plt.show()"
   ]
  },
  {
   "cell_type": "code",
   "execution_count": 23,
   "id": "d96d76cd",
   "metadata": {},
   "outputs": [
    {
     "data": {
      "image/png": "[encoded data removed]",
      "text/plain": [
       "<Figure size 432x288 with 1 Axes>"
      ]
     },
     "metadata": {
      "needs_background": "light"
     },
     "output_type": "display_data"
    }
   ],
   "source": [
    "plt.plot(history.history['accuracy'])\n",
    "plt.ylabel('loss')\n",
    "plt.xlabel('epochs')\n",
    "plt.show()"
   ]
  },
  {
   "cell_type": "code",
   "execution_count": 24,
   "id": "f8d777e1",
   "metadata": {},
   "outputs": [
    {
     "name": "stdout",
     "output_type": "stream",
     "text": [
      "Epoch 1/20\n",
      "1500/1500 [==============================] - 7s 5ms/step - loss: 0.5341 - accuracy: 0.8095\n",
      "Epoch 2/20\n",
      "1500/1500 [==============================] - 7s 4ms/step - loss: 0.3963 - accuracy: 0.8577\n",
      "Epoch 3/20\n",
      "1500/1500 [==============================] - 7s 4ms/step - loss: 0.3574 - accuracy: 0.8715\n",
      "Epoch 4/20\n",
      "1500/1500 [==============================] - 7s 4ms/step - loss: 0.3352 - accuracy: 0.8804\n",
      "Epoch 5/20\n",
      "1500/1500 [==============================] - 7s 4ms/step - loss: 0.3173 - accuracy: 0.8862\n",
      "Epoch 6/20\n",
      "1500/1500 [==============================] - 7s 5ms/step - loss: 0.3074 - accuracy: 0.8916\n",
      "Epoch 7/20\n",
      "1500/1500 [==============================] - 7s 5ms/step - loss: 0.3001 - accuracy: 0.8941\n",
      "Epoch 8/20\n",
      "1500/1500 [==============================] - 7s 5ms/step - loss: 0.2913 - accuracy: 0.8981\n",
      "Epoch 9/20\n",
      "1500/1500 [==============================] - 7s 5ms/step - loss: 0.2846 - accuracy: 0.9012\n",
      "Epoch 10/20\n",
      "1500/1500 [==============================] - 6s 4ms/step - loss: 0.2775 - accuracy: 0.9021\n",
      "Epoch 11/20\n",
      "1500/1500 [==============================] - 7s 4ms/step - loss: 0.2716 - accuracy: 0.9064\n",
      "Epoch 12/20\n",
      "1500/1500 [==============================] - 7s 4ms/step - loss: 0.2654 - accuracy: 0.9074\n",
      "Epoch 13/20\n",
      "1500/1500 [==============================] - 7s 5ms/step - loss: 0.2618 - accuracy: 0.9103\n",
      "Epoch 14/20\n",
      "1500/1500 [==============================] - 7s 4ms/step - loss: 0.2578 - accuracy: 0.9116\n",
      "Epoch 15/20\n",
      "1500/1500 [==============================] - 7s 4ms/step - loss: 0.2495 - accuracy: 0.9139\n",
      "Epoch 16/20\n",
      "1500/1500 [==============================] - 7s 4ms/step - loss: 0.2478 - accuracy: 0.9151\n",
      "Epoch 17/20\n",
      "1500/1500 [==============================] - 7s 4ms/step - loss: 0.2434 - accuracy: 0.9177\n",
      "Epoch 18/20\n",
      "1500/1500 [==============================] - 7s 4ms/step - loss: 0.2383 - accuracy: 0.9186\n",
      "Epoch 19/20\n",
      "1500/1500 [==============================] - 6s 4ms/step - loss: 0.2340 - accuracy: 0.9200\n",
      "Epoch 20/20\n",
      "1500/1500 [==============================] - 7s 4ms/step - loss: 0.2335 - accuracy: 0.9216\n"
     ]
    },
    {
     "data": {
      "image/png": "[encoded data removed]",
      "text/plain": [
       "<Figure size 432x288 with 1 Axes>"
      ]
     },
     "metadata": {
      "needs_background": "light"
     },
     "output_type": "display_data"
    }
   ],
   "source": [
    "model = model_fn()\n",
    "model.compile(loss='sparse_categorical_crossentropy', metrics='accuracy')\n",
    "history = model.fit(train_scaled, train_target, epochs=20, verbose=1)\n",
    "plt.plot(history.history['loss'])\n",
    "plt.xlabel('epochs')\n",
    "plt.ylabel('loss')\n",
    "plt.show() # 과적합인지를 파악하기 위해서 검증 데이터로 결과를 확인할 필요가 있음"
   ]
  },
  {
   "cell_type": "code",
   "execution_count": 26,
   "id": "b2562848",
   "metadata": {},
   "outputs": [
    {
     "name": "stdout",
     "output_type": "stream",
     "text": [
      "Epoch 1/20\n",
      "1500/1500 [==============================] - 8s 5ms/step - loss: 0.5365 - accuracy: 0.8096 - val_loss: 0.4165 - val_accuracy: 0.8491\n",
      "Epoch 2/20\n",
      "1500/1500 [==============================] - 8s 5ms/step - loss: 0.3944 - accuracy: 0.8553 - val_loss: 0.3654 - val_accuracy: 0.8708\n",
      "Epoch 3/20\n",
      "1500/1500 [==============================] - 8s 5ms/step - loss: 0.3549 - accuracy: 0.8732 - val_loss: 0.3774 - val_accuracy: 0.8664\n",
      "Epoch 4/20\n",
      "1500/1500 [==============================] - 8s 5ms/step - loss: 0.3376 - accuracy: 0.8792 - val_loss: 0.3518 - val_accuracy: 0.8788\n",
      "Epoch 5/20\n",
      "1500/1500 [==============================] - 8s 5ms/step - loss: 0.3211 - accuracy: 0.8854 - val_loss: 0.3587 - val_accuracy: 0.8780\n",
      "Epoch 6/20\n",
      "1500/1500 [==============================] - 8s 5ms/step - loss: 0.3084 - accuracy: 0.8892 - val_loss: 0.3765 - val_accuracy: 0.8729\n",
      "Epoch 7/20\n",
      "1500/1500 [==============================] - 8s 5ms/step - loss: 0.2996 - accuracy: 0.8937 - val_loss: 0.3712 - val_accuracy: 0.8789\n",
      "Epoch 8/20\n",
      "1500/1500 [==============================] - 8s 5ms/step - loss: 0.2904 - accuracy: 0.8973 - val_loss: 0.3834 - val_accuracy: 0.8793\n",
      "Epoch 9/20\n",
      "1500/1500 [==============================] - 7s 5ms/step - loss: 0.2837 - accuracy: 0.8995 - val_loss: 0.3823 - val_accuracy: 0.8797\n",
      "Epoch 10/20\n",
      "1500/1500 [==============================] - 8s 5ms/step - loss: 0.2772 - accuracy: 0.9014 - val_loss: 0.3874 - val_accuracy: 0.8808\n",
      "Epoch 11/20\n",
      "1500/1500 [==============================] - 8s 5ms/step - loss: 0.2717 - accuracy: 0.9051 - val_loss: 0.3922 - val_accuracy: 0.8814\n",
      "Epoch 12/20\n",
      "1500/1500 [==============================] - 8s 5ms/step - loss: 0.2653 - accuracy: 0.9083 - val_loss: 0.4031 - val_accuracy: 0.8804\n",
      "Epoch 13/20\n",
      "1500/1500 [==============================] - 8s 5ms/step - loss: 0.2601 - accuracy: 0.9091 - val_loss: 0.3982 - val_accuracy: 0.8833\n",
      "Epoch 14/20\n",
      "1500/1500 [==============================] - 8s 5ms/step - loss: 0.2535 - accuracy: 0.9117 - val_loss: 0.4046 - val_accuracy: 0.8812\n",
      "Epoch 15/20\n",
      "1500/1500 [==============================] - 8s 5ms/step - loss: 0.2507 - accuracy: 0.9131 - val_loss: 0.4099 - val_accuracy: 0.8842\n",
      "Epoch 16/20\n",
      "1500/1500 [==============================] - 8s 5ms/step - loss: 0.2472 - accuracy: 0.9150 - val_loss: 0.4448 - val_accuracy: 0.8823\n",
      "Epoch 17/20\n",
      "1500/1500 [==============================] - 7s 5ms/step - loss: 0.2423 - accuracy: 0.9172 - val_loss: 0.4255 - val_accuracy: 0.8810\n",
      "Epoch 18/20\n",
      "1500/1500 [==============================] - 7s 5ms/step - loss: 0.2371 - accuracy: 0.9195 - val_loss: 0.4348 - val_accuracy: 0.8833\n",
      "Epoch 19/20\n",
      "1500/1500 [==============================] - 8s 5ms/step - loss: 0.2318 - accuracy: 0.9198 - val_loss: 0.4751 - val_accuracy: 0.8809\n",
      "Epoch 20/20\n",
      "1500/1500 [==============================] - 8s 5ms/step - loss: 0.2294 - accuracy: 0.9219 - val_loss: 0.5436 - val_accuracy: 0.8622\n"
     ]
    }
   ],
   "source": [
    "model = model_fn()\n",
    "model.compile(loss='sparse_categorical_crossentropy', metrics='accuracy')\n",
    "history = model.fit(train_scaled, train_target, epochs=20, verbose=1, validation_data=(val_input, val_target)) # 뒤쪽에 검증데이터셋도 생기네"
   ]
  },
  {
   "cell_type": "code",
   "execution_count": 27,
   "id": "b3036644",
   "metadata": {},
   "outputs": [
    {
     "name": "stdout",
     "output_type": "stream",
     "text": [
      "dict_keys(['loss', 'accuracy', 'val_loss', 'val_accuracy'])\n"
     ]
    }
   ],
   "source": [
    "print(history.history.keys())"
   ]
  },
  {
   "cell_type": "code",
   "execution_count": 30,
   "id": "c1c200f4",
   "metadata": {},
   "outputs": [
    {
     "data": {
      "image/png": "[encoded data removed]",
      "text/plain": [
       "<Figure size 432x288 with 1 Axes>"
      ]
     },
     "metadata": {
      "needs_background": "light"
     },
     "output_type": "display_data"
    }
   ],
   "source": [
    "plt.plot(history.history['loss'])\n",
    "plt.plot(history.history['val_loss'])\n",
    "plt.legend(['train', 'val'])\n",
    "plt.show()"
   ]
  },
  {
   "cell_type": "code",
   "execution_count": 31,
   "id": "145de822",
   "metadata": {},
   "outputs": [
    {
     "name": "stdout",
     "output_type": "stream",
     "text": [
      "Epoch 1/20\n",
      "1500/1500 - 6s - loss: 0.5251 - accuracy: 0.8180 - val_loss: 0.4745 - val_accuracy: 0.8329 - 6s/epoch - 4ms/step\n",
      "Epoch 2/20\n",
      "1500/1500 - 5s - loss: 0.3947 - accuracy: 0.8582 - val_loss: 0.3709 - val_accuracy: 0.8649 - 5s/epoch - 4ms/step\n",
      "Epoch 3/20\n",
      "1500/1500 - 5s - loss: 0.3507 - accuracy: 0.8729 - val_loss: 0.3483 - val_accuracy: 0.8758 - 5s/epoch - 4ms/step\n",
      "Epoch 4/20\n",
      "1500/1500 - 6s - loss: 0.3292 - accuracy: 0.8792 - val_loss: 0.3495 - val_accuracy: 0.8701 - 6s/epoch - 4ms/step\n",
      "Epoch 5/20\n",
      "1500/1500 - 5s - loss: 0.3073 - accuracy: 0.8875 - val_loss: 0.3578 - val_accuracy: 0.8740 - 5s/epoch - 4ms/step\n",
      "Epoch 6/20\n",
      "1500/1500 - 6s - loss: 0.2927 - accuracy: 0.8928 - val_loss: 0.3292 - val_accuracy: 0.8812 - 6s/epoch - 4ms/step\n",
      "Epoch 7/20\n",
      "1500/1500 - 6s - loss: 0.2808 - accuracy: 0.8976 - val_loss: 0.3333 - val_accuracy: 0.8791 - 6s/epoch - 4ms/step\n",
      "Epoch 8/20\n",
      "1500/1500 - 6s - loss: 0.2686 - accuracy: 0.8994 - val_loss: 0.3227 - val_accuracy: 0.8849 - 6s/epoch - 4ms/step\n",
      "Epoch 9/20\n",
      "1500/1500 - 6s - loss: 0.2584 - accuracy: 0.9051 - val_loss: 0.3366 - val_accuracy: 0.8815 - 6s/epoch - 4ms/step\n",
      "Epoch 10/20\n",
      "1500/1500 - 6s - loss: 0.2481 - accuracy: 0.9079 - val_loss: 0.3200 - val_accuracy: 0.8909 - 6s/epoch - 4ms/step\n",
      "Epoch 11/20\n",
      "1500/1500 - 6s - loss: 0.2410 - accuracy: 0.9103 - val_loss: 0.3315 - val_accuracy: 0.8881 - 6s/epoch - 4ms/step\n",
      "Epoch 12/20\n",
      "1500/1500 - 6s - loss: 0.2315 - accuracy: 0.9134 - val_loss: 0.3156 - val_accuracy: 0.8888 - 6s/epoch - 4ms/step\n",
      "Epoch 13/20\n",
      "1500/1500 - 6s - loss: 0.2252 - accuracy: 0.9162 - val_loss: 0.3237 - val_accuracy: 0.8882 - 6s/epoch - 4ms/step\n",
      "Epoch 14/20\n",
      "1500/1500 - 6s - loss: 0.2180 - accuracy: 0.9193 - val_loss: 0.3159 - val_accuracy: 0.8927 - 6s/epoch - 4ms/step\n",
      "Epoch 15/20\n",
      "1500/1500 - 6s - loss: 0.2136 - accuracy: 0.9205 - val_loss: 0.3295 - val_accuracy: 0.8903 - 6s/epoch - 4ms/step\n",
      "Epoch 16/20\n",
      "1500/1500 - 5s - loss: 0.2061 - accuracy: 0.9228 - val_loss: 0.3380 - val_accuracy: 0.8851 - 5s/epoch - 4ms/step\n",
      "Epoch 17/20\n",
      "1500/1500 - 6s - loss: 0.2010 - accuracy: 0.9242 - val_loss: 0.3448 - val_accuracy: 0.8823 - 6s/epoch - 4ms/step\n",
      "Epoch 18/20\n",
      "1500/1500 - 6s - loss: 0.1967 - accuracy: 0.9256 - val_loss: 0.3333 - val_accuracy: 0.8903 - 6s/epoch - 4ms/step\n",
      "Epoch 19/20\n",
      "1500/1500 - 6s - loss: 0.1910 - accuracy: 0.9288 - val_loss: 0.3287 - val_accuracy: 0.8925 - 6s/epoch - 4ms/step\n",
      "Epoch 20/20\n",
      "1500/1500 - 6s - loss: 0.1845 - accuracy: 0.9315 - val_loss: 0.3423 - val_accuracy: 0.8900 - 6s/epoch - 4ms/step\n"
     ]
    },
    {
     "data": {
      "image/png": "[encoded data removed]",
      "text/plain": [
       "<Figure size 432x288 with 1 Axes>"
      ]
     },
     "metadata": {
      "needs_background": "light"
     },
     "output_type": "display_data"
    }
   ],
   "source": [
    "# 과적합이 덜 일어나는 다른 최적화 알고리즘을 적용해보자 (예제에서는 adam 사용)\n",
    "model = model_fn()\n",
    "model.compile(optimizer='adam', loss='sparse_categorical_crossentropy', metrics='accuracy')\n",
    "history = model.fit(train_scaled, train_target, epochs=20, validation_data=(val_input, val_target), verbose=2)\n",
    "plt.plot(history.history['loss'])\n",
    "plt.plot(history.history['val_loss'])\n",
    "plt.legend(['loss', 'val_loss'])\n",
    "plt.show()"
   ]
  },
  {
   "cell_type": "code",
   "execution_count": 3,
   "id": "6da9bea2",
   "metadata": {},
   "outputs": [
    {
     "name": "stdout",
     "output_type": "stream",
     "text": [
      "Model: \"sequential\"\n",
      "_________________________________________________________________\n",
      " Layer (type)                Output Shape              Param #   \n",
      "=================================================================\n",
      " flatten (Flatten)           (None, 784)               0         \n",
      "                                                                 \n",
      " dense (Dense)               (None, 100)               78500     \n",
      "                                                                 \n",
      " dropout (Dropout)           (None, 100)               0         \n",
      "                                                                 \n",
      " dense_1 (Dense)             (None, 10)                1010      \n",
      "                                                                 \n",
      "=================================================================\n",
      "Total params: 79,510\n",
      "Trainable params: 79,510\n",
      "Non-trainable params: 0\n",
      "_________________________________________________________________\n"
     ]
    }
   ],
   "source": [
    "model = model_fn(keras.layers.Dropout(0.3))\n",
    "model.summary()"
   ]
  },
  {
   "cell_type": "code",
   "execution_count": 4,
   "id": "b3091838",
   "metadata": {},
   "outputs": [
    {
     "name": "stdout",
     "output_type": "stream",
     "text": [
      "Epoch 1/20\n",
      "1500/1500 [==============================] - 9s 5ms/step - loss: 0.5869 - accuracy: 0.7935 - val_loss: 0.4414 - val_accuracy: 0.8425\n",
      "Epoch 2/20\n",
      "1500/1500 [==============================] - 7s 5ms/step - loss: 0.4349 - accuracy: 0.8430 - val_loss: 0.3910 - val_accuracy: 0.8575\n",
      "Epoch 3/20\n",
      "1500/1500 [==============================] - 7s 5ms/step - loss: 0.4007 - accuracy: 0.8554 - val_loss: 0.3630 - val_accuracy: 0.8680\n",
      "Epoch 4/20\n",
      "1500/1500 [==============================] - 7s 5ms/step - loss: 0.3806 - accuracy: 0.8602 - val_loss: 0.3562 - val_accuracy: 0.8687\n",
      "Epoch 5/20\n",
      "1500/1500 [==============================] - 7s 5ms/step - loss: 0.3672 - accuracy: 0.8655 - val_loss: 0.3515 - val_accuracy: 0.8711\n",
      "Epoch 6/20\n",
      "1500/1500 [==============================] - 7s 5ms/step - loss: 0.3556 - accuracy: 0.8692 - val_loss: 0.3498 - val_accuracy: 0.8726\n",
      "Epoch 7/20\n",
      "1500/1500 [==============================] - 7s 5ms/step - loss: 0.3414 - accuracy: 0.8749 - val_loss: 0.3512 - val_accuracy: 0.8720\n",
      "Epoch 8/20\n",
      "1500/1500 [==============================] - 7s 5ms/step - loss: 0.3322 - accuracy: 0.8789 - val_loss: 0.3306 - val_accuracy: 0.8785\n",
      "Epoch 9/20\n",
      "1500/1500 [==============================] - 7s 5ms/step - loss: 0.3253 - accuracy: 0.8787 - val_loss: 0.3290 - val_accuracy: 0.8797\n",
      "Epoch 10/20\n",
      "1500/1500 [==============================] - 7s 5ms/step - loss: 0.3175 - accuracy: 0.8810 - val_loss: 0.3310 - val_accuracy: 0.8802\n",
      "Epoch 11/20\n",
      "1500/1500 [==============================] - 7s 4ms/step - loss: 0.3106 - accuracy: 0.8853 - val_loss: 0.3251 - val_accuracy: 0.8827\n",
      "Epoch 12/20\n",
      "1500/1500 [==============================] - 7s 4ms/step - loss: 0.3069 - accuracy: 0.8881 - val_loss: 0.3181 - val_accuracy: 0.8846\n",
      "Epoch 13/20\n",
      "1500/1500 [==============================] - 7s 4ms/step - loss: 0.3025 - accuracy: 0.8877 - val_loss: 0.3375 - val_accuracy: 0.8775\n",
      "Epoch 14/20\n",
      "1500/1500 [==============================] - 7s 5ms/step - loss: 0.2982 - accuracy: 0.8891 - val_loss: 0.3169 - val_accuracy: 0.8856\n",
      "Epoch 15/20\n",
      "1500/1500 [==============================] - 7s 5ms/step - loss: 0.2937 - accuracy: 0.8902 - val_loss: 0.3245 - val_accuracy: 0.8834\n",
      "Epoch 16/20\n",
      "1500/1500 [==============================] - 7s 5ms/step - loss: 0.2895 - accuracy: 0.8894 - val_loss: 0.3280 - val_accuracy: 0.8849\n",
      "Epoch 17/20\n",
      "1500/1500 [==============================] - 7s 5ms/step - loss: 0.2857 - accuracy: 0.8924 - val_loss: 0.3162 - val_accuracy: 0.8858\n",
      "Epoch 18/20\n",
      "1500/1500 [==============================] - 7s 4ms/step - loss: 0.2811 - accuracy: 0.8950 - val_loss: 0.3219 - val_accuracy: 0.8842\n",
      "Epoch 19/20\n",
      "1500/1500 [==============================] - 7s 4ms/step - loss: 0.2738 - accuracy: 0.8969 - val_loss: 0.3186 - val_accuracy: 0.8856\n",
      "Epoch 20/20\n",
      "1500/1500 [==============================] - 7s 5ms/step - loss: 0.2726 - accuracy: 0.8984 - val_loss: 0.3096 - val_accuracy: 0.8874\n"
     ]
    },
    {
     "data": {
      "image/png": "[encoded data removed]",
      "text/plain": [
       "<Figure size 432x288 with 1 Axes>"
      ]
     },
     "metadata": {
      "needs_background": "light"
     },
     "output_type": "display_data"
    }
   ],
   "source": [
    "import matplotlib.pyplot as plt\n",
    "\n",
    "model.compile(optimizer='adam', loss='sparse_categorical_crossentropy', metrics='accuracy')\n",
    "history = model.fit(train_scaled, train_target, epochs=20, verbose=1,\n",
    "                   validation_data=(val_input, val_target))\n",
    "plt.plot(history.history['loss'])\n",
    "plt.plot(history.history['val_loss'])\n",
    "plt.legend(['train', 'val'])\n",
    "plt.show()"
   ]
  },
  {
   "cell_type": "code",
   "execution_count": 3,
   "id": "ff0da675",
   "metadata": {},
   "outputs": [
    {
     "name": "stdout",
     "output_type": "stream",
     "text": [
      "Epoch 1/10\n",
      "1500/1500 [==============================] - 9s 5ms/step - loss: 0.5888 - accuracy: 0.7927 - val_loss: 0.4389 - val_accuracy: 0.8399\n",
      "Epoch 2/10\n",
      "1500/1500 [==============================] - 6s 4ms/step - loss: 0.4409 - accuracy: 0.8415 - val_loss: 0.3946 - val_accuracy: 0.8573\n",
      "Epoch 3/10\n",
      "1500/1500 [==============================] - 6s 4ms/step - loss: 0.4069 - accuracy: 0.8525 - val_loss: 0.3665 - val_accuracy: 0.8683\n",
      "Epoch 4/10\n",
      "1500/1500 [==============================] - 6s 4ms/step - loss: 0.3857 - accuracy: 0.8596 - val_loss: 0.3521 - val_accuracy: 0.8723\n",
      "Epoch 5/10\n",
      "1500/1500 [==============================] - 6s 4ms/step - loss: 0.3655 - accuracy: 0.8655 - val_loss: 0.3438 - val_accuracy: 0.8766\n",
      "Epoch 6/10\n",
      "1500/1500 [==============================] - 6s 4ms/step - loss: 0.3541 - accuracy: 0.8698 - val_loss: 0.3370 - val_accuracy: 0.8779\n",
      "Epoch 7/10\n",
      "1500/1500 [==============================] - 6s 4ms/step - loss: 0.3383 - accuracy: 0.8752 - val_loss: 0.3556 - val_accuracy: 0.8732\n",
      "Epoch 8/10\n",
      "1500/1500 [==============================] - 6s 4ms/step - loss: 0.3321 - accuracy: 0.8768 - val_loss: 0.3430 - val_accuracy: 0.8731\n",
      "Epoch 9/10\n",
      "1500/1500 [==============================] - 6s 4ms/step - loss: 0.3278 - accuracy: 0.8772 - val_loss: 0.3369 - val_accuracy: 0.8769\n",
      "Epoch 10/10\n",
      "1500/1500 [==============================] - 6s 4ms/step - loss: 0.3210 - accuracy: 0.8811 - val_loss: 0.3293 - val_accuracy: 0.8799\n"
     ]
    }
   ],
   "source": [
    "model = model_fn(keras.layers.Dropout(0.3))\n",
    "model.compile(optimizer='adam', loss='sparse_categorical_crossentropy', metrics='accuracy')\n",
    "history = model.fit(train_scaled, train_target, epochs=10, verbose=1,\n",
    "                   validation_data=(val_input, val_target))"
   ]
  },
  {
   "cell_type": "code",
   "execution_count": 5,
   "id": "6e7a1d21",
   "metadata": {},
   "outputs": [
    {
     "ename": "ImportError",
     "evalue": "`save_weights` requires h5py when saving in hdf5, but h5py is not available. Try installing h5py package.",
     "output_type": "error",
     "traceback": [
      "\u001b[1;31m---------------------------------------------------------------------------\u001b[0m",
      "\u001b[1;31mImportError\u001b[0m                               Traceback (most recent call last)",
      "Input \u001b[1;32mIn [5]\u001b[0m, in \u001b[0;36m<cell line: 1>\u001b[1;34m()\u001b[0m\n\u001b[1;32m----> 1\u001b[0m \u001b[43mmodel\u001b[49m\u001b[38;5;241;43m.\u001b[39;49m\u001b[43msave_weights\u001b[49m\u001b[43m(\u001b[49m\u001b[38;5;124;43m'\u001b[39;49m\u001b[38;5;124;43mmodel-weights.h5\u001b[39;49m\u001b[38;5;124;43m'\u001b[39;49m\u001b[43m)\u001b[49m\n",
      "File \u001b[1;32mC:\\Anaconda\\envs\\CNN\\lib\\site-packages\\keras\\utils\\traceback_utils.py:70\u001b[0m, in \u001b[0;36mfilter_traceback.<locals>.error_handler\u001b[1;34m(*args, **kwargs)\u001b[0m\n\u001b[0;32m     67\u001b[0m     filtered_tb \u001b[38;5;241m=\u001b[39m _process_traceback_frames(e\u001b[38;5;241m.\u001b[39m__traceback__)\n\u001b[0;32m     68\u001b[0m     \u001b[38;5;66;03m# To get the full stack trace, call:\u001b[39;00m\n\u001b[0;32m     69\u001b[0m     \u001b[38;5;66;03m# `tf.debugging.disable_traceback_filtering()`\u001b[39;00m\n\u001b[1;32m---> 70\u001b[0m     \u001b[38;5;28;01mraise\u001b[39;00m e\u001b[38;5;241m.\u001b[39mwith_traceback(filtered_tb) \u001b[38;5;28;01mfrom\u001b[39;00m \u001b[38;5;28mNone\u001b[39m\n\u001b[0;32m     71\u001b[0m \u001b[38;5;28;01mfinally\u001b[39;00m:\n\u001b[0;32m     72\u001b[0m     \u001b[38;5;28;01mdel\u001b[39;00m filtered_tb\n",
      "File \u001b[1;32mC:\\Anaconda\\envs\\CNN\\lib\\site-packages\\keras\\engine\\training.py:2800\u001b[0m, in \u001b[0;36mModel.save_weights\u001b[1;34m(self, filepath, overwrite, save_format, options)\u001b[0m\n\u001b[0;32m   2793\u001b[0m     \u001b[38;5;28;01mraise\u001b[39;00m \u001b[38;5;167;01mValueError\u001b[39;00m(\n\u001b[0;32m   2794\u001b[0m         \u001b[38;5;124m'\u001b[39m\u001b[38;5;124msave_weights got save_format=\u001b[39m\u001b[38;5;124m\"\u001b[39m\u001b[38;5;124mtf\u001b[39m\u001b[38;5;124m\"\u001b[39m\u001b[38;5;124m/\u001b[39m\u001b[38;5;124m\"\u001b[39m\u001b[38;5;124mtensorflow\u001b[39m\u001b[38;5;124m\"\u001b[39m\u001b[38;5;124m, but the \u001b[39m\u001b[38;5;124m'\u001b[39m\n\u001b[0;32m   2795\u001b[0m         \u001b[38;5;124mf\u001b[39m\u001b[38;5;124m\"\u001b[39m\u001b[38;5;124mfilepath (\u001b[39m\u001b[38;5;132;01m{\u001b[39;00mfilepath\u001b[38;5;132;01m}\u001b[39;00m\u001b[38;5;124m) looks like an HDF5 file. \u001b[39m\u001b[38;5;124m\"\u001b[39m\n\u001b[0;32m   2796\u001b[0m         \u001b[38;5;124m'\u001b[39m\u001b[38;5;124mOmit the \u001b[39m\u001b[38;5;124m\"\u001b[39m\u001b[38;5;124m.h5\u001b[39m\u001b[38;5;124m\"\u001b[39m\u001b[38;5;124m/\u001b[39m\u001b[38;5;124m\"\u001b[39m\u001b[38;5;124m.keras\u001b[39m\u001b[38;5;124m\"\u001b[39m\u001b[38;5;124m when saving in TensorFlow format.\u001b[39m\u001b[38;5;124m'\u001b[39m\n\u001b[0;32m   2797\u001b[0m     )\n\u001b[0;32m   2799\u001b[0m \u001b[38;5;28;01mif\u001b[39;00m save_format \u001b[38;5;241m==\u001b[39m \u001b[38;5;124m\"\u001b[39m\u001b[38;5;124mh5\u001b[39m\u001b[38;5;124m\"\u001b[39m \u001b[38;5;129;01mand\u001b[39;00m h5py \u001b[38;5;129;01mis\u001b[39;00m \u001b[38;5;28;01mNone\u001b[39;00m:\n\u001b[1;32m-> 2800\u001b[0m     \u001b[38;5;28;01mraise\u001b[39;00m \u001b[38;5;167;01mImportError\u001b[39;00m(\n\u001b[0;32m   2801\u001b[0m         \u001b[38;5;124m\"\u001b[39m\u001b[38;5;124m`save_weights` requires h5py when saving in hdf5, but h5py is \u001b[39m\u001b[38;5;124m\"\u001b[39m\n\u001b[0;32m   2802\u001b[0m         \u001b[38;5;124m\"\u001b[39m\u001b[38;5;124mnot available. Try installing h5py package.\u001b[39m\u001b[38;5;124m\"\u001b[39m\n\u001b[0;32m   2803\u001b[0m     )\n\u001b[0;32m   2804\u001b[0m \u001b[38;5;28;01mif\u001b[39;00m save_format \u001b[38;5;241m==\u001b[39m \u001b[38;5;124m\"\u001b[39m\u001b[38;5;124mtf\u001b[39m\u001b[38;5;124m\"\u001b[39m:\n\u001b[0;32m   2805\u001b[0m     check_filepath \u001b[38;5;241m=\u001b[39m filepath \u001b[38;5;241m+\u001b[39m \u001b[38;5;124m\"\u001b[39m\u001b[38;5;124m.index\u001b[39m\u001b[38;5;124m\"\u001b[39m\n",
      "\u001b[1;31mImportError\u001b[0m: `save_weights` requires h5py when saving in hdf5, but h5py is not available. Try installing h5py package."
     ]
    }
   ],
   "source": [
    "model.save_weights('model-weights.h5')"
   ]
  },
  {
   "cell_type": "code",
   "execution_count": null,
   "id": "211568ec",
   "metadata": {},
   "outputs": [],
   "source": []
  }
 ],
 "metadata": {
  "kernelspec": {
   "display_name": "CNN_Virtual_Machine",
   "language": "python",
   "name": "cnn_virtual_machine"
  },
  "language_info": {
   "codemirror_mode": {
    "name": "ipython",
    "version": 3
   },
   "file_extension": ".py",
   "mimetype": "text/x-python",
   "name": "python",
   "nbconvert_exporter": "python",
   "pygments_lexer": "ipython3",
   "version": "3.9.12"
  },
  "vp": {
   "vp_config_version": "1.0.0",
   "vp_menu_width": 273,
   "vp_note_display": false,
   "vp_note_width": 0,
   "vp_position": {
    "width": 278
   },
   "vp_section_display": false,
   "vp_signature": "VisualPython"
  }
 },
 "nbformat": 4,
 "nbformat_minor": 5
}
