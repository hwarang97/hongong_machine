{
 "cells": [
  {
   "cell_type": "code",
   "execution_count": 1,
   "id": "88c980b3",
   "metadata": {},
   "outputs": [],
   "source": [
    "import pandas as pd"
   ]
  },
  {
   "cell_type": "code",
   "execution_count": 2,
   "id": "7636e00f",
   "metadata": {},
   "outputs": [
    {
     "name": "stdout",
     "output_type": "stream",
     "text": [
      "[[ 8.4   2.11  1.41]\n",
      " [13.7   3.53  2.  ]\n",
      " [15.    3.82  2.43]\n",
      " [16.2   4.59  2.63]\n",
      " [17.4   4.59  2.94]\n",
      " [18.    5.22  3.32]\n",
      " [18.7   5.2   3.12]\n",
      " [19.    5.64  3.05]\n",
      " [19.6   5.14  3.04]\n",
      " [20.    5.08  2.77]\n",
      " [21.    5.69  3.56]\n",
      " [21.    5.92  3.31]\n",
      " [21.    5.69  3.67]\n",
      " [21.3   6.38  3.53]\n",
      " [22.    6.11  3.41]\n",
      " [22.    5.64  3.52]\n",
      " [22.    6.11  3.52]\n",
      " [22.    5.88  3.52]\n",
      " [22.    5.52  4.  ]\n",
      " [22.5   5.86  3.62]\n",
      " [22.5   6.79  3.62]\n",
      " [22.7   5.95  3.63]\n",
      " [23.    5.22  3.63]\n",
      " [23.5   6.28  3.72]\n",
      " [24.    7.29  3.72]\n",
      " [24.    6.38  3.82]\n",
      " [24.6   6.73  4.17]\n",
      " [25.    6.44  3.68]\n",
      " [25.6   6.56  4.24]\n",
      " [26.5   7.17  4.14]\n",
      " [27.3   8.32  5.14]\n",
      " [27.5   7.17  4.34]\n",
      " [27.5   7.05  4.34]\n",
      " [27.5   7.28  4.57]\n",
      " [28.    7.82  4.2 ]\n",
      " [28.7   7.59  4.64]\n",
      " [30.    7.62  4.77]\n",
      " [32.8  10.03  6.02]\n",
      " [34.5  10.26  6.39]\n",
      " [35.   11.49  7.8 ]\n",
      " [36.5  10.88  6.86]\n",
      " [36.   10.61  6.74]\n",
      " [37.   10.84  6.26]\n",
      " [37.   10.57  6.37]\n",
      " [39.   11.14  7.49]\n",
      " [39.   11.14  6.  ]\n",
      " [39.   12.43  7.35]\n",
      " [40.   11.93  7.11]\n",
      " [40.   11.73  7.22]\n",
      " [40.   12.38  7.46]\n",
      " [40.   11.14  6.63]\n",
      " [42.   12.8   6.87]\n",
      " [43.   11.93  7.28]\n",
      " [43.   12.51  7.42]\n",
      " [43.5  12.6   8.14]\n",
      " [44.   12.49  7.6 ]]\n"
     ]
    }
   ],
   "source": [
    "df = pd.read_csv('https://bit.ly/perch_csv_data') # url로도 데이터를 가져올 수 있다는게 신기하다\n",
    "pearch_full = df.to_numpy()\n",
    "print(pearch_full)"
   ]
  },
  {
   "cell_type": "code",
   "execution_count": 3,
   "id": "2e9aba69",
   "metadata": {},
   "outputs": [],
   "source": [
    "import numpy as np\n",
    "perch_weight = np.array([5.9, 32.0, 40.0, 51.5, 70.0, 100.0, 78.0, 80.0, 85.0, 85.0, 110.0,\n",
    "       115.0, 125.0, 130.0, 120.0, 120.0, 130.0, 135.0, 110.0, 130.0,\n",
    "       150.0, 145.0, 150.0, 170.0, 225.0, 145.0, 188.0, 180.0, 197.0,\n",
    "       218.0, 300.0, 260.0, 265.0, 250.0, 250.0, 300.0, 320.0, 514.0,\n",
    "       556.0, 840.0, 685.0, 700.0, 700.0, 690.0, 900.0, 650.0, 820.0,\n",
    "       850.0, 900.0, 1015.0, 820.0, 1100.0, 1000.0, 1100.0, 1000.0,\n",
    "       1000.0])"
   ]
  },
  {
   "cell_type": "code",
   "execution_count": 15,
   "id": "a6b746b3",
   "metadata": {},
   "outputs": [],
   "source": [
    "from sklearn.model_selection import train_test_split\n",
    "train_input, test_input, train_target, test_target = train_test_split(pearch_full, \n",
    "                                                                      perch_weight, random_state=42)"
   ]
  },
  {
   "cell_type": "code",
   "execution_count": 16,
   "id": "d6d57aa7",
   "metadata": {},
   "outputs": [
    {
     "name": "stdout",
     "output_type": "stream",
     "text": [
      "[[  19.6       5.14      3.04    384.16    100.744    59.584    26.4196\n",
      "    15.6256    9.2416]\n",
      " [  22.        5.88      3.52    484.      129.36     77.44     34.5744\n",
      "    20.6976   12.3904]\n",
      " [  18.7       5.2       3.12    349.69     97.24     58.344    27.04\n",
      "    16.224     9.7344]\n",
      " [  17.4       4.59      2.94    302.76     79.866    51.156    21.0681\n",
      "    13.4946    8.6436]\n",
      " [  36.       10.61      6.74   1296.      381.96    242.64    112.5721\n",
      "    71.5114   45.4276]\n",
      " [  25.        6.44      3.68    625.      161.       92.       41.4736\n",
      "    23.6992   13.5424]\n",
      " [  40.       11.93      7.11   1600.      477.2     284.4     142.3249\n",
      "    84.8223   50.5521]\n",
      " [  39.       12.43      7.35   1521.      484.77    286.65    154.5049\n",
      "    91.3605   54.0225]\n",
      " [  43.       11.93      7.28   1849.      512.99    313.04    142.3249\n",
      "    86.8504   52.9984]\n",
      " [  22.        5.64      3.52    484.      124.08     77.44     31.8096\n",
      "    19.8528   12.3904]\n",
      " [  20.        5.08      2.77    400.      101.6      55.4      25.8064\n",
      "    14.0716    7.6729]\n",
      " [  22.        6.11      3.52    484.      134.42     77.44     37.3321\n",
      "    21.5072   12.3904]\n",
      " [  24.        7.29      3.72    576.      174.96     89.28     53.1441\n",
      "    27.1188   13.8384]\n",
      " [  27.5       7.17      4.34    756.25    197.175   119.35     51.4089\n",
      "    31.1178   18.8356]\n",
      " [  43.       12.51      7.42   1849.      537.93    319.06    156.5001\n",
      "    92.8242   55.0564]\n",
      " [  40.       11.73      7.22   1600.      469.2     288.8     137.5929\n",
      "    84.6906   52.1284]\n",
      " [  24.        6.38      3.82    576.      153.12     91.68     40.7044\n",
      "    24.3716   14.5924]\n",
      " [  21.        5.92      3.31    441.      124.32     69.51     35.0464\n",
      "    19.5952   10.9561]\n",
      " [  27.5       7.05      4.34    756.25    193.875   119.35     49.7025\n",
      "    30.597    18.8356]\n",
      " [  40.       12.38      7.46   1600.      495.2     298.4     153.2644\n",
      "    92.3548   55.6516]\n",
      " [  32.8      10.03      6.02   1075.84    328.984   197.456   100.6009\n",
      "    60.3806   36.2404]\n",
      " [  26.5       7.17      4.14    702.25    190.005   109.71     51.4089\n",
      "    29.6838   17.1396]\n",
      " [  36.5      10.88      6.86   1332.25    397.12    250.39    118.3744\n",
      "    74.6368   47.0596]\n",
      " [  13.7       3.53      2.      187.69     48.361    27.4      12.4609\n",
      "     7.06      4.    ]\n",
      " [  22.7       5.95      3.63    515.29    135.065    82.401    35.4025\n",
      "    21.5985   13.1769]\n",
      " [  15.        3.82      2.43    225.       57.3      36.45     14.5924\n",
      "     9.2826    5.9049]\n",
      " [  37.       10.57      6.37   1369.      391.09    235.69    111.7249\n",
      "    67.3309   40.5769]\n",
      " [  35.       11.49      7.8    1225.      402.15    273.      132.0201\n",
      "    89.622    60.84  ]\n",
      " [  28.7       7.59      4.64    823.69    217.833   133.168    57.6081\n",
      "    35.2176   21.5296]\n",
      " [  23.5       6.28      3.72    552.25    147.58     87.42     39.4384\n",
      "    23.3616   13.8384]\n",
      " [  39.       11.14      6.     1521.      434.46    234.      124.0996\n",
      "    66.84     36.    ]\n",
      " [  21.        5.69      3.56    441.      119.49     74.76     32.3761\n",
      "    20.2564   12.6736]\n",
      " [  23.        5.22      3.63    529.      120.06     83.49     27.2484\n",
      "    18.9486   13.1769]\n",
      " [  22.        5.52      4.      484.      121.44     88.       30.4704\n",
      "    22.08     16.    ]\n",
      " [  44.       12.49      7.6    1936.      549.56    334.4     156.0001\n",
      "    94.924    57.76  ]\n",
      " [  22.5       6.79      3.62    506.25    152.775    81.45     46.1041\n",
      "    24.5798   13.1044]\n",
      " [  19.        5.64      3.05    361.      107.16     57.95     31.8096\n",
      "    17.202     9.3025]\n",
      " [  37.       10.84      6.26   1369.      401.08    231.62    117.5056\n",
      "    67.8584   39.1876]\n",
      " [  22.        6.11      3.41    484.      134.42     75.02     37.3321\n",
      "    20.8351   11.6281]\n",
      " [  25.6       6.56      4.24    655.36    167.936   108.544    43.0336\n",
      "    27.8144   17.9776]\n",
      " [  42.       12.8       6.87   1764.      537.6     288.54    163.84\n",
      "    87.936    47.1969]\n",
      " [  34.5      10.26      6.39   1190.25    353.97    220.455   105.2676\n",
      "    65.5614   40.8321]]\n"
     ]
    }
   ],
   "source": [
    "from sklearn.preprocessing import PolynomialFeatures\n",
    "\n",
    "poly = PolynomialFeatures(include_bias=False) # 다중 특성을 만들어주는 변환기 객체 초기화\n",
    "# poly.fit(train_input) # 특성에 따라 값을 변환해주므로 입력값만 있으면 된다, fit은 특성 조합만 구상하는것 \n",
    "# train_poly = poly.transform(train_input)\n",
    "# print(train_poly)\n",
    "\n",
    "train_poly = poly.fit_transform(train_input) # fit, transform을 하나로 묶은 메소드\n",
    "print(train_poly)"
   ]
  },
  {
   "cell_type": "code",
   "execution_count": 17,
   "id": "6d100b89",
   "metadata": {},
   "outputs": [
    {
     "data": {
      "text/plain": [
       "['x0', 'x1', 'x2', 'x0^2', 'x0 x1', 'x0 x2', 'x1^2', 'x1 x2', 'x2^2']"
      ]
     },
     "execution_count": 17,
     "metadata": {},
     "output_type": "execute_result"
    }
   ],
   "source": [
    "# 9개 특성이 어떻게 만들어졌는지 확인\n",
    "poly.get_feature_names() # 책에서는 get_feature_names_out() 이라 나와있는데, 버전에 따라 다른것 같음"
   ]
  },
  {
   "cell_type": "code",
   "execution_count": 18,
   "id": "786dd9ae",
   "metadata": {},
   "outputs": [
    {
     "name": "stdout",
     "output_type": "stream",
     "text": [
      "[[8.400000e+00 2.110000e+00 1.410000e+00 7.056000e+01 1.772400e+01\n",
      "  1.184400e+01 4.452100e+00 2.975100e+00 1.988100e+00]\n",
      " [1.800000e+01 5.220000e+00 3.320000e+00 3.240000e+02 9.396000e+01\n",
      "  5.976000e+01 2.724840e+01 1.733040e+01 1.102240e+01]\n",
      " [2.750000e+01 7.280000e+00 4.570000e+00 7.562500e+02 2.002000e+02\n",
      "  1.256750e+02 5.299840e+01 3.326960e+01 2.088490e+01]\n",
      " [2.130000e+01 6.380000e+00 3.530000e+00 4.536900e+02 1.358940e+02\n",
      "  7.518900e+01 4.070440e+01 2.252140e+01 1.246090e+01]\n",
      " [2.250000e+01 5.860000e+00 3.620000e+00 5.062500e+02 1.318500e+02\n",
      "  8.145000e+01 3.433960e+01 2.121320e+01 1.310440e+01]\n",
      " [4.000000e+01 1.114000e+01 6.630000e+00 1.600000e+03 4.456000e+02\n",
      "  2.652000e+02 1.240996e+02 7.385820e+01 4.395690e+01]\n",
      " [3.000000e+01 7.620000e+00 4.770000e+00 9.000000e+02 2.286000e+02\n",
      "  1.431000e+02 5.806440e+01 3.634740e+01 2.275290e+01]\n",
      " [2.460000e+01 6.730000e+00 4.170000e+00 6.051600e+02 1.655580e+02\n",
      "  1.025820e+02 4.529290e+01 2.806410e+01 1.738890e+01]\n",
      " [3.900000e+01 1.114000e+01 7.490000e+00 1.521000e+03 4.344600e+02\n",
      "  2.921100e+02 1.240996e+02 8.343860e+01 5.610010e+01]\n",
      " [2.100000e+01 5.690000e+00 3.670000e+00 4.410000e+02 1.194900e+02\n",
      "  7.707000e+01 3.237610e+01 2.088230e+01 1.346890e+01]\n",
      " [4.350000e+01 1.260000e+01 8.140000e+00 1.892250e+03 5.481000e+02\n",
      "  3.540900e+02 1.587600e+02 1.025640e+02 6.625960e+01]\n",
      " [1.620000e+01 4.590000e+00 2.630000e+00 2.624400e+02 7.435800e+01\n",
      "  4.260600e+01 2.106810e+01 1.207170e+01 6.916900e+00]\n",
      " [2.800000e+01 7.820000e+00 4.200000e+00 7.840000e+02 2.189600e+02\n",
      "  1.176000e+02 6.115240e+01 3.284400e+01 1.764000e+01]\n",
      " [2.730000e+01 8.320000e+00 5.140000e+00 7.452900e+02 2.271360e+02\n",
      "  1.403220e+02 6.922240e+01 4.276480e+01 2.641960e+01]]\n"
     ]
    }
   ],
   "source": [
    "test_poly = poly.transform(test_input)\n",
    "print(test_poly)"
   ]
  },
  {
   "cell_type": "code",
   "execution_count": 24,
   "id": "99d51103",
   "metadata": {},
   "outputs": [
    {
     "name": "stdout",
     "output_type": "stream",
     "text": [
      "train :  0.9903183436982125\n",
      "test:  0.9714559911594155\n"
     ]
    }
   ],
   "source": [
    "# 여러 특성 데이터셋을 얻었으니 이제 학습할 차례\n",
    "\n",
    "from sklearn.linear_model import LinearRegression\n",
    "\n",
    "lr = LinearRegression()\n",
    "lr.fit(train_poly, train_target)\n",
    "print('train : ', lr.score(train_poly, train_target)) # score는 데이터만 주면 된다\n",
    "\n",
    "print('test: ', lr.score(test_poly, test_target))"
   ]
  },
  {
   "cell_type": "code",
   "execution_count": 35,
   "id": "7cbc7cbc",
   "metadata": {},
   "outputs": [],
   "source": [
    "# 특성을 더 추가해보자\n",
    "\n",
    "poly = PolynomialFeatures(degree=5, include_bias=False)\n",
    "train_poly = poly.fit_transform(train_input)\n",
    "test_poly = poly.transform(test_input)"
   ]
  },
  {
   "cell_type": "code",
   "execution_count": 36,
   "id": "14e513b8",
   "metadata": {},
   "outputs": [
    {
     "name": "stdout",
     "output_type": "stream",
     "text": [
      "train :  0.9999999999938143\n",
      "test :  -144.40744532797535\n"
     ]
    }
   ],
   "source": [
    "lr = LinearRegression()\n",
    "lr.fit(train_poly, train_target)\n",
    "print('train : ', lr.score(train_poly, train_target))\n",
    "print('test : ', lr.score(test_poly, test_target)) # 특성이 많아 복잡해지니까 과대적합이 일어나 성능이 더 떨어짐"
   ]
  },
  {
   "cell_type": "code",
   "execution_count": 37,
   "id": "f0023c04",
   "metadata": {},
   "outputs": [
    {
     "name": "stdout",
     "output_type": "stream",
     "text": [
      "[[-1.01339619 -1.01007487 -1.01952321 ... -0.76449499 -0.75967179\n",
      "  -0.75143746]\n",
      " [-0.73842893 -0.75254307 -0.74466913 ... -0.73198449 -0.72731765\n",
      "  -0.71950111]\n",
      " [-1.11650891 -0.98919391 -0.97371419 ... -0.76114089 -0.75592147\n",
      "  -0.74734146]\n",
      " ...\n",
      " [-0.32597805 -0.51589222 -0.33238802 ... -0.65673421 -0.64237495\n",
      "  -0.62509499]\n",
      " [ 1.55296488  1.65572732  1.17358328 ...  1.45958191  1.19906225\n",
      "   0.95977016]\n",
      " [ 0.6936922   0.7717668   0.8987292  ...  0.3701756   0.40321427\n",
      "   0.43089551]]\n"
     ]
    }
   ],
   "source": [
    "# 규제(regulation)를 통해서 계수를 억제하여 과적합을 막아보자\n",
    "\n",
    "# 스케일링을 통해서 범주, 단위를 떠나 각 틍성별로 영향력이 비슷하도록 만들어줌\n",
    "from sklearn.preprocessing import StandardScaler\n",
    "ss = StandardScaler()\n",
    "ss.fit(train_poly)\n",
    "train_scaled = ss.transform(train_poly)\n",
    "test_scaled = ss.transform(test_poly)\n",
    "print(train_scaled)"
   ]
  },
  {
   "cell_type": "code",
   "execution_count": 40,
   "id": "a19d4292",
   "metadata": {},
   "outputs": [
    {
     "name": "stdout",
     "output_type": "stream",
     "text": [
      "train :  0.9896101671037343\n",
      "test :  0.9790693977615386\n"
     ]
    }
   ],
   "source": [
    "# 션형 회귀에 규제를 넣으면 릿지와 라쏘 회귀가 된다.\n",
    "# 릿지는 계수를 제곱한 값을 기준으로 규제를 때리고 (일반적으로 릿지를 많이 씀)\n",
    "# 라쏘는 계수의 절댓값을 기준으로 규제를 때린다. 라쏘는 계수가 0이 되는 경우도 있어서 어떤 속성을 써야하는지 알 수 있음\n",
    "# 둘다 상황에 따라 쓰임새가 달라서 뭐가 더 좋다고 말할 수 없음\n",
    "\n",
    "from sklearn.linear_model import Ridge\n",
    "ridge = Ridge()\n",
    "ridge.fit(train_scaled, train_target)\n",
    "print('train : ', ridge.score(train_scaled, train_target))\n",
    "print('test : ', ridge.score(test_scaled, test_target))"
   ]
  },
  {
   "cell_type": "code",
   "execution_count": 49,
   "id": "fae1a7a7",
   "metadata": {},
   "outputs": [
    {
     "data": {
      "image/png": "[encoded data removed]",
      "text/plain": [
       "<Figure size 432x288 with 1 Axes>"
      ]
     },
     "metadata": {
      "needs_background": "light"
     },
     "output_type": "display_data"
    }
   ],
   "source": [
    "import matplotlib.pyplot as plt\n",
    "\n",
    "alpha_list = [0.001, 0.01, 0.1, 1, 10, 100]\n",
    "\n",
    "train_r = []\n",
    "test_r = []\n",
    "\n",
    "for alpha in alpha_list:\n",
    "    \n",
    "    ridge = Ridge(alpha=alpha)\n",
    "    ridge.fit(train_scaled, train_target)\n",
    "    train_r.append(ridge.score(train_scaled, train_target))\n",
    "    test_r.append(ridge.score(test_scaled, test_target))\n",
    "    \n",
    "plt.plot(np.log10(alpha_list), train_r) # 로그를 안취하면 왼쪽으로 쏠려\n",
    "plt.plot(np.log10(alpha_list), test_r)\n",
    "plt.show()"
   ]
  },
  {
   "cell_type": "code",
   "execution_count": 55,
   "id": "8e0120b1",
   "metadata": {},
   "outputs": [
    {
     "name": "stderr",
     "output_type": "stream",
     "text": [
      "C:\\Anaconda\\lib\\site-packages\\sklearn\\linear_model\\_coordinate_descent.py:530: ConvergenceWarning: Objective did not converge. You might want to increase the number of iterations. Duality gap: 18778.697957792032, tolerance: 518.2793833333334\n",
      "  model = cd_fast.enet_coordinate_descent(\n",
      "C:\\Anaconda\\lib\\site-packages\\sklearn\\linear_model\\_coordinate_descent.py:530: ConvergenceWarning: Objective did not converge. You might want to increase the number of iterations. Duality gap: 12972.821345401393, tolerance: 518.2793833333334\n",
      "  model = cd_fast.enet_coordinate_descent(\n"
     ]
    },
    {
     "data": {
      "image/png": "[encoded data removed]",
      "text/plain": [
       "<Figure size 432x288 with 1 Axes>"
      ]
     },
     "metadata": {
      "needs_background": "light"
     },
     "output_type": "display_data"
    }
   ],
   "source": [
    "from sklearn.linear_model import Lasso\n",
    "\n",
    "train_r = []\n",
    "test_r = []\n",
    "alpha_list = [0.001, 0.01, 0.1, 1, 10, 100]\n",
    "\n",
    "for alpha in alpha_list:\n",
    "    lasso = Lasso(alpha=alpha, max_iter=10000)\n",
    "    lasso.fit(train_scaled, train_target)\n",
    "    train_r.append(lasso.score(train_scaled, train_target))\n",
    "    test_r.append(lasso.score(test_scaled, test_target)) \n",
    "    \n",
    "plt.plot(np.log10(alpha_list), train_r) # 로그를 안취하면 왼쪽으로 쏠려\n",
    "plt.plot(np.log10(alpha_list), test_r)\n",
    "plt.show()    "
   ]
  },
  {
   "cell_type": "code",
   "execution_count": 51,
   "id": "676196b7",
   "metadata": {},
   "outputs": [
    {
     "data": {
      "text/plain": [
       "42"
      ]
     },
     "execution_count": 51,
     "metadata": {},
     "output_type": "execute_result"
    }
   ],
   "source": [
    "np.sum(lasso.coef_==0) # 계수가 0인게 42개나 있음."
   ]
  },
  {
   "cell_type": "code",
   "execution_count": 52,
   "id": "f3fdcd21",
   "metadata": {},
   "outputs": [
    {
     "data": {
      "image/png": "[encoded data removed]",
      "text/plain": [
       "<Figure size 432x288 with 1 Axes>"
      ]
     },
     "metadata": {
      "needs_background": "light"
     },
     "output_type": "display_data"
    }
   ],
   "source": [
    "plt.plot(np.log10(alpha_list), train_r) # 로그를 안취하면 왼쪽으로 쏠려\n",
    "plt.plot(np.log10(alpha_list), test_r)\n",
    "plt.show()"
   ]
  },
  {
   "cell_type": "code",
   "execution_count": null,
   "id": "007261f5",
   "metadata": {},
   "outputs": [],
   "source": []
  }
 ],
 "metadata": {
  "kernelspec": {
   "display_name": "Python 3",
   "language": "python",
   "name": "python3"
  },
  "language_info": {
   "codemirror_mode": {
    "name": "ipython",
    "version": 3
   },
   "file_extension": ".py",
   "mimetype": "text/x-python",
   "name": "python",
   "nbconvert_exporter": "python",
   "pygments_lexer": "ipython3",
   "version": "3.8.8"
  },
  "vp": {
   "vp_config_version": "1.0.0",
   "vp_menu_width": 273,
   "vp_note_display": false,
   "vp_note_width": 0,
   "vp_position": {
    "width": 278
   },
   "vp_section_display": false,
   "vp_signature": "VisualPython"
  }
 },
 "nbformat": 4,
 "nbformat_minor": 5
}
